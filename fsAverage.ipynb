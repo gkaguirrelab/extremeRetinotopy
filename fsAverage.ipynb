{
 "cells": [
  {
   "cell_type": "markdown",
   "metadata": {
    "deletable": true,
    "editable": true
   },
   "source": [
    "# fsAverage\n",
    "\n",
    "This notebook is designed to read a collection of subjects from the York dataset and average the values across subjects."
   ]
  },
  {
   "cell_type": "code",
   "execution_count": 1,
   "metadata": {
    "collapsed": false,
    "deletable": true,
    "editable": true
   },
   "outputs": [],
   "source": [
    "import nibabel as nib\n",
    "import numpy as np\n",
    "import matplotlib.pylab as plt\n",
    "import seaborn as sb\n",
    "import scipy as sp\n",
    "import pandas as pd\n",
    "%matplotlib inline\n",
    "sb.set_context('notebook')\n",
    "# R2590 is one of the subjects\n",
    "R2590_FILE_PATH = 'YORK_processing/R2590/pRFs/lh.pol.sym.nii.gz'"
   ]
  },
  {
   "cell_type": "code",
   "execution_count": 2,
   "metadata": {
    "collapsed": false,
    "deletable": true,
    "editable": true
   },
   "outputs": [],
   "source": [
    "AVERAGES_DIR = \"averages\"\n",
    "!mkdir -p {AVERAGES_DIR}"
   ]
  },
  {
   "cell_type": "markdown",
   "metadata": {
    "deletable": true,
    "editable": true
   },
   "source": [
    "Loading 1 nifti surface image using `nibabel` to demonstrate that it works. Note that the matrix is 1-dimensional as this is a surface file."
   ]
  },
  {
   "cell_type": "code",
   "execution_count": 3,
   "metadata": {
    "collapsed": false,
    "deletable": true,
    "editable": true
   },
   "outputs": [
    {
     "name": "stdout",
     "output_type": "stream",
     "text": [
      "Dimensions: (163842, 1, 1)\n"
     ]
    },
    {
     "data": {
      "image/png": "[encoded data removed]",
      "text/plain": [
       "<matplotlib.figure.Figure at 0x7f6528017a90>"
      ]
     },
     "metadata": {},
     "output_type": "display_data"
    }
   ],
   "source": [
    "lh_pol = nib.load(R2590_FILE_PATH)\n",
    "print 'Dimensions:', lh_pol.shape\n",
    "lh_pol_data = lh_pol.get_data()\n",
    "\n",
    "plt.plot(lh_pol_data.flatten());"
   ]
  },
  {
   "cell_type": "code",
   "execution_count": 4,
   "metadata": {
    "collapsed": false,
    "deletable": true,
    "editable": true
   },
   "outputs": [
    {
     "name": "stdout",
     "output_type": "stream",
     "text": [
      "Dimensions: (163842, 1, 1)\n"
     ]
    },
    {
     "data": {
      "image/png": "[encoded data removed]",
      "text/plain": [
       "<matplotlib.figure.Figure at 0x7f65204590d0>"
      ]
     },
     "metadata": {},
     "output_type": "display_data"
    }
   ],
   "source": [
    "rh_pol = nib.load('YORK_processing/R2590/pRFs/rh.pol.sym.nii.gz')\n",
    "print 'Dimensions:', rh_pol.shape\n",
    "rh_pol_data = rh_pol.get_data()\n",
    "\n",
    "plt.plot(rh_pol_data.flatten());"
   ]
  },
  {
   "cell_type": "markdown",
   "metadata": {
    "deletable": true,
    "editable": true
   },
   "source": [
    "Notice that the variance is much higher in the right hemisphere (rh) than the left hemisphere (lh). This is actually because the right hemisphere is centered around ±$\\pi$, so it seems to \"jump\" around a lot, whereas the left hemisphere is centered around 0."
   ]
  },
  {
   "cell_type": "code",
   "execution_count": 5,
   "metadata": {
    "collapsed": false,
    "deletable": true,
    "editable": true
   },
   "outputs": [
    {
     "name": "stdout",
     "output_type": "stream",
     "text": [
      "Right hemisphere variance: 5.77374\n",
      "Left hemisphere variance: 1.68269\n"
     ]
    }
   ],
   "source": [
    "print 'Right hemisphere variance:', rh_pol_data.var()\n",
    "print 'Left hemisphere variance:', lh_pol_data.var()"
   ]
  },
  {
   "cell_type": "markdown",
   "metadata": {
    "deletable": true,
    "editable": true
   },
   "source": [
    "First, we assume that all the subjects have directory names that start with R and list them out."
   ]
  },
  {
   "cell_type": "code",
   "execution_count": 6,
   "metadata": {
    "collapsed": false,
    "deletable": true,
    "editable": true
   },
   "outputs": [
    {
     "data": {
      "text/plain": [
       "['YORK_processing/R3262',\n",
       " 'YORK_processing/R3403',\n",
       " 'YORK_processing/R2590',\n",
       " 'YORK_processing/R3395',\n",
       " 'YORK_processing/R3724',\n",
       " 'YORK_processing/R3052',\n",
       " 'YORK_processing/R3269',\n",
       " 'YORK_processing/R3534',\n",
       " 'YORK_processing/R3532',\n",
       " 'YORK_processing/R3391',\n",
       " 'YORK_processing/R3074',\n",
       " 'YORK_processing/R3271',\n",
       " 'YORK_processing/R3738',\n",
       " 'YORK_processing/R3557',\n",
       " 'YORK_processing/R3404',\n",
       " 'YORK_processing/R3267',\n",
       " 'YORK_processing/R3554',\n",
       " 'YORK_processing/R3254',\n",
       " 'YORK_processing/R3261',\n",
       " 'YORK_processing/R3531',\n",
       " 'YORK_processing/R2595']"
      ]
     },
     "execution_count": 6,
     "metadata": {},
     "output_type": "execute_result"
    }
   ],
   "source": [
    "import glob\n",
    "session_paths = glob.glob('YORK_processing/R*')\n",
    "session_paths"
   ]
  },
  {
   "cell_type": "markdown",
   "metadata": {
    "deletable": true,
    "editable": true
   },
   "source": [
    "Each subject has 8 files: 4 for each hemisphere, left (`lh`) and right (`rh`). In each hemisphere, there is `co` for correlation (calculated during fit), `ecc` for eccentricity, `pol` for polar angle, and `sig` for sigma. The following code just generates the list of files."
   ]
  },
  {
   "cell_type": "code",
   "execution_count": 7,
   "metadata": {
    "collapsed": false,
    "deletable": true,
    "editable": true
   },
   "outputs": [
    {
     "data": {
      "text/plain": [
       "['pRFs/lh.co.sym.nii.gz',\n",
       " 'pRFs/lh.ecc.sym.nii.gz',\n",
       " 'pRFs/lh.sig.sym.nii.gz',\n",
       " 'pRFs/rh.co.sym.nii.gz',\n",
       " 'pRFs/rh.ecc.sym.nii.gz',\n",
       " 'pRFs/rh.sig.sym.nii.gz']"
      ]
     },
     "execution_count": 7,
     "metadata": {},
     "output_type": "execute_result"
    }
   ],
   "source": [
    "import itertools\n",
    "# 'pol' left out because we want to do circular mean\n",
    "file_path_prefix = itertools.product(['lh', 'rh'], ['co', 'ecc', 'sig'])\n",
    "file_paths = [\"pRFs/\" + pre[0] + '.' + pre[1] + '.sym.nii.gz' for pre in file_path_prefix]\n",
    "circ_paths = ['pRFs/lh.pol.sym.nii.gz', 'pRFs/rh.pol.sym.nii.gz']\n",
    "file_paths"
   ]
  },
  {
   "cell_type": "markdown",
   "metadata": {
    "deletable": true,
    "editable": true
   },
   "source": [
    "To test out the average, we will be using `file_paths[0]`, which is `lh.co.sym.nii.gz`, the left hemisphere's correlation. The 0 axis is of length 163842, and the result `avg` is a 163842×1×1 matrix containing the average of all the subjects."
   ]
  },
  {
   "cell_type": "code",
   "execution_count": 8,
   "metadata": {
    "collapsed": false,
    "deletable": true,
    "editable": true
   },
   "outputs": [
    {
     "data": {
      "text/plain": [
       "array([[[        nan]],\n",
       "\n",
       "       [[ 0.22040156]],\n",
       "\n",
       "       [[        nan]],\n",
       "\n",
       "       ..., \n",
       "       [[ 0.14393064]],\n",
       "\n",
       "       [[ 0.14158241]],\n",
       "\n",
       "       [[ 0.15303762]]], dtype=float32)"
      ]
     },
     "execution_count": 8,
     "metadata": {},
     "output_type": "execute_result"
    }
   ],
   "source": [
    "import os.path\n",
    "img_paths = (os.path.join(sess, file_paths[0]) for sess in session_paths)\n",
    "imgs = [nib.load(path) for path in img_paths]\n",
    "imgs_data = [img.get_data() for img in imgs]\n",
    "avg = np.mean(imgs_data, axis=0)\n",
    "affine_data = [img.affine for img in imgs]\n",
    "affine_avg = np.mean(affine_data, axis=0)\n",
    "avg"
   ]
  },
  {
   "cell_type": "markdown",
   "metadata": {
    "deletable": true,
    "editable": true
   },
   "source": [
    "Next, we can redo this code by looping over all the different `file_paths` to do both hemispheres and each of the 3 metrics with a simple mean.\n",
    "\n",
    "The left and right hemisphere maps have been generated using the appropriate right and left visual stimulation data, so there is no need to identify which is the \"correct\" one.\n",
    "\n",
    "**TODO**: Use explained variance to weigh patients' data in mean. Can be done with `np.average` instead of `np.mean`."
   ]
  },
  {
   "cell_type": "code",
   "execution_count": 9,
   "metadata": {
    "collapsed": false,
    "deletable": true,
    "editable": true
   },
   "outputs": [],
   "source": [
    "# Do simple mean\n",
    "\n",
    "for nifti in file_paths:\n",
    "    img_paths = (os.path.join(sess, nifti) for sess in session_paths)\n",
    "    imgs = [nib.load(path) for path in img_paths]\n",
    "    affine_data = [img.affine for img in imgs]\n",
    "    affine_avg = np.mean(affine_data, axis=0)\n",
    "    imgs_data = [img.get_data() for img in imgs]\n",
    "    avg = np.mean(imgs_data, axis=0)\n",
    "    avg_file_name = \"avg.\" + nifti.split(\"/\")[1]\n",
    "    avg_nifti = nib.Nifti1Image(avg, affine_avg)\n",
    "    avg_nifti.to_filename(os.path.join(AVERAGES_DIR, avg_file_name))"
   ]
  },
  {
   "cell_type": "markdown",
   "metadata": {
    "deletable": true,
    "editable": true
   },
   "source": [
    "Now, circular means of the polar angle."
   ]
  },
  {
   "cell_type": "code",
   "execution_count": 10,
   "metadata": {
    "collapsed": false,
    "deletable": true,
    "editable": true
   },
   "outputs": [
    {
     "name": "stdout",
     "output_type": "stream",
     "text": [
      "         lh        rh\n",
      "0 -2.356194 -2.356194\n"
     ]
    },
    {
     "data": {
      "text/html": [
       "<div>\n",
       "<table border=\"1\" class=\"dataframe\">\n",
       "  <thead>\n",
       "    <tr style=\"text-align: right;\">\n",
       "      <th></th>\n",
       "      <th>lh</th>\n",
       "      <th>rh</th>\n",
       "    </tr>\n",
       "  </thead>\n",
       "  <tbody>\n",
       "    <tr>\n",
       "      <th>count</th>\n",
       "      <td>163842.000000</td>\n",
       "      <td>163842.000000</td>\n",
       "    </tr>\n",
       "    <tr>\n",
       "      <th>mean</th>\n",
       "      <td>-0.509644</td>\n",
       "      <td>-0.176957</td>\n",
       "    </tr>\n",
       "    <tr>\n",
       "      <th>std</th>\n",
       "      <td>1.297188</td>\n",
       "      <td>2.402868</td>\n",
       "    </tr>\n",
       "    <tr>\n",
       "      <th>min</th>\n",
       "      <td>-3.058451</td>\n",
       "      <td>-3.121595</td>\n",
       "    </tr>\n",
       "    <tr>\n",
       "      <th>25%</th>\n",
       "      <td>-1.570796</td>\n",
       "      <td>-2.356194</td>\n",
       "    </tr>\n",
       "    <tr>\n",
       "      <th>50%</th>\n",
       "      <td>-0.239232</td>\n",
       "      <td>-1.675673</td>\n",
       "    </tr>\n",
       "    <tr>\n",
       "      <th>75%</th>\n",
       "      <td>0.540420</td>\n",
       "      <td>2.432966</td>\n",
       "    </tr>\n",
       "    <tr>\n",
       "      <th>max</th>\n",
       "      <td>3.141593</td>\n",
       "      <td>3.141593</td>\n",
       "    </tr>\n",
       "  </tbody>\n",
       "</table>\n",
       "</div>"
      ],
      "text/plain": [
       "                  lh             rh\n",
       "count  163842.000000  163842.000000\n",
       "mean       -0.509644      -0.176957\n",
       "std         1.297188       2.402868\n",
       "min        -3.058451      -3.121595\n",
       "25%        -1.570796      -2.356194\n",
       "50%        -0.239232      -1.675673\n",
       "75%         0.540420       2.432966\n",
       "max         3.141593       3.141593"
      ]
     },
     "execution_count": 10,
     "metadata": {},
     "output_type": "execute_result"
    }
   ],
   "source": [
    "polar_angle = pd.DataFrame({\"lh\": lh_pol_data.flatten(), \"rh\": rh_pol_data.flatten()})\n",
    "print polar_angle.mode()\n",
    "polar_angle.describe()"
   ]
  },
  {
   "cell_type": "code",
   "execution_count": 11,
   "metadata": {
    "collapsed": false,
    "deletable": true,
    "editable": true
   },
   "outputs": [
    {
     "data": {
      "image/png": "[encoded data removed]",
      "text/plain": [
       "<matplotlib.figure.Figure at 0x7f64ed0d61d0>"
      ]
     },
     "metadata": {},
     "output_type": "display_data"
    }
   ],
   "source": [
    "# Histogram of polar angle, massive spike at -135°\n",
    "polar_angle.hist(bins=30, figsize=(16.0, 5.5));"
   ]
  },
  {
   "cell_type": "code",
   "execution_count": 12,
   "metadata": {
    "collapsed": false,
    "deletable": true,
    "editable": true
   },
   "outputs": [
    {
     "data": {
      "text/plain": [
       "-3.1415926535897931"
      ]
     },
     "execution_count": 12,
     "metadata": {},
     "output_type": "execute_result"
    }
   ],
   "source": [
    "import math\n",
    "sp.stats.circmean([-3.14, 3.14], high=math.pi, low=-math.pi)"
   ]
  },
  {
   "cell_type": "code",
   "execution_count": 13,
   "metadata": {
    "collapsed": false,
    "deletable": true,
    "editable": true
   },
   "outputs": [],
   "source": [
    "# Circular mean for polar angles\n",
    "\n",
    "for nifti in circ_paths:\n",
    "    img_paths = (os.path.join(sess, nifti) for sess in session_paths)\n",
    "    imgs = [nib.load(path) for path in img_paths]\n",
    "    affine_data = [img.affine for img in imgs]\n",
    "    affine_avg = np.mean(affine_data, axis=0)\n",
    "    imgs_data = [img.get_data() for img in imgs]\n",
    "    avg = sp.stats.circmean(imgs_data, high=math.pi, low=-math.pi, axis=0)\n",
    "    avg_file_name = \"avg.\" + nifti.split(\"/\")[1]\n",
    "    avg_nifti = nib.Nifti1Image(avg, affine_avg)\n",
    "    avg_nifti.to_filename(os.path.join(AVERAGES_DIR, avg_file_name))"
   ]
  },
  {
   "cell_type": "markdown",
   "metadata": {
    "deletable": true,
    "editable": true
   },
   "source": [
    "The shape file has odd dimensions in Python, with a dimension of -1. Seems to work fine in MATLAB. Needs more investigation."
   ]
  },
  {
   "cell_type": "code",
   "execution_count": 14,
   "metadata": {
    "collapsed": false,
    "deletable": true,
    "editable": true,
    "scrolled": true
   },
   "outputs": [],
   "source": [
    "# img = nib.load('YORK_processing/R2590/pRFs/lh.surf.tcs.nii.gz')\n",
    "# img.shape"
   ]
  },
  {
   "cell_type": "markdown",
   "metadata": {
    "deletable": true,
    "editable": true
   },
   "source": [
    "Images do not always have the same affine (what is an affine?)"
   ]
  },
  {
   "cell_type": "code",
   "execution_count": 15,
   "metadata": {
    "collapsed": false,
    "deletable": true,
    "editable": true
   },
   "outputs": [
    {
     "data": {
      "text/plain": [
       "array([[ True,  True,  True,  True],\n",
       "       [ True,  True,  True, False],\n",
       "       [ True,  True,  True, False],\n",
       "       [ True,  True,  True,  True]], dtype=bool)"
      ]
     },
     "execution_count": 15,
     "metadata": {},
     "output_type": "execute_result"
    }
   ],
   "source": [
    "img1 = nib.load('YORK_processing/R2590/pRFs/lh.ecc.sym.nii.gz')\n",
    "img2 = nib.load('YORK_processing/R3395/pRFs/lh.ecc.sym.nii.gz')\n",
    "img1.affine == img2.affine"
   ]
  },
  {
   "cell_type": "markdown",
   "metadata": {},
   "source": [
    "## Average Data"
   ]
  },
  {
   "cell_type": "code",
   "execution_count": 30,
   "metadata": {
    "collapsed": false
   },
   "outputs": [
    {
     "data": {
      "text/html": [
       "<div>\n",
       "<table border=\"1\" class=\"dataframe\">\n",
       "  <thead>\n",
       "    <tr style=\"text-align: right;\">\n",
       "      <th></th>\n",
       "      <th>lh</th>\n",
       "      <th>rh</th>\n",
       "    </tr>\n",
       "  </thead>\n",
       "  <tbody>\n",
       "    <tr>\n",
       "      <th>count</th>\n",
       "      <td>163842.000000</td>\n",
       "      <td>163842.000000</td>\n",
       "    </tr>\n",
       "    <tr>\n",
       "      <th>mean</th>\n",
       "      <td>-0.627396</td>\n",
       "      <td>-0.880181</td>\n",
       "    </tr>\n",
       "    <tr>\n",
       "      <th>std</th>\n",
       "      <td>0.914566</td>\n",
       "      <td>2.695161</td>\n",
       "    </tr>\n",
       "    <tr>\n",
       "      <th>min</th>\n",
       "      <td>-2.995070</td>\n",
       "      <td>-3.141593</td>\n",
       "    </tr>\n",
       "    <tr>\n",
       "      <th>25%</th>\n",
       "      <td>-1.126988</td>\n",
       "      <td>-2.909466</td>\n",
       "    </tr>\n",
       "    <tr>\n",
       "      <th>50%</th>\n",
       "      <td>-0.240728</td>\n",
       "      <td>-2.576490</td>\n",
       "    </tr>\n",
       "    <tr>\n",
       "      <th>75%</th>\n",
       "      <td>0.023438</td>\n",
       "      <td>2.813378</td>\n",
       "    </tr>\n",
       "    <tr>\n",
       "      <th>max</th>\n",
       "      <td>2.971708</td>\n",
       "      <td>3.141585</td>\n",
       "    </tr>\n",
       "  </tbody>\n",
       "</table>\n",
       "</div>"
      ],
      "text/plain": [
       "                  lh             rh\n",
       "count  163842.000000  163842.000000\n",
       "mean       -0.627396      -0.880181\n",
       "std         0.914566       2.695161\n",
       "min        -2.995070      -3.141593\n",
       "25%        -1.126988      -2.909466\n",
       "50%        -0.240728      -2.576490\n",
       "75%         0.023438       2.813378\n",
       "max         2.971708       3.141585"
      ]
     },
     "execution_count": 30,
     "metadata": {},
     "output_type": "execute_result"
    }
   ],
   "source": [
    "lh_avg = nib.load(\"averages/avg.lh.pol.sym.nii.gz\")\n",
    "rh_avg = nib.load(\"averages/avg.rh.pol.sym.nii.gz\")\n",
    "polar_angle = pd.DataFrame({\"lh\": lh_avg.get_data().flatten(), \"rh\": rh_avg.get_data().flatten()})\n",
    "polar_angle.describe()"
   ]
  },
  {
   "cell_type": "code",
   "execution_count": 36,
   "metadata": {
    "collapsed": false
   },
   "outputs": [
    {
     "data": {
      "image/png": "[encoded data removed]",
      "text/plain": [
       "<matplotlib.figure.Figure at 0x7f64ecd836d0>"
      ]
     },
     "metadata": {},
     "output_type": "display_data"
    }
   ],
   "source": [
    "# Histogram of polar angle, massive spike at -135°\n",
    "polar_angle.hist(bins=30, figsize=(16.0, 5.5));"
   ]
  },
  {
   "cell_type": "code",
   "execution_count": 29,
   "metadata": {
    "collapsed": false
   },
   "outputs": [
    {
     "data": {
      "image/png": "[encoded data removed]",
      "text/plain": [
       "<matplotlib.figure.Figure at 0x7f64e9c0a990>"
      ]
     },
     "metadata": {},
     "output_type": "display_data"
    }
   ],
   "source": [
    "# Circular mean for polar angles\n",
    "nifti = circ_paths[0]\n",
    "for sess in session_paths:\n",
    "    img_path = os.path.join(sess, nifti)\n",
    "    img = nib.load(img_path).get_data().flatten()\n",
    "    sb.distplot(img);"
   ]
  }
 ],
 "metadata": {
  "kernelspec": {
   "display_name": "Python 2",
   "language": "python",
   "name": "python2"
  },
  "language_info": {
   "codemirror_mode": {
    "name": "ipython",
    "version": 2
   },
   "file_extension": ".py",
   "mimetype": "text/x-python",
   "name": "python",
   "nbconvert_exporter": "python",
   "pygments_lexer": "ipython2",
   "version": "2.7.6"
  }
 },
 "nbformat": 4,
 "nbformat_minor": 2
}
